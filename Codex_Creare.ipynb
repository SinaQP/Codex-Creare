{
  "nbformat": 4,
  "nbformat_minor": 0,
  "metadata": {
    "colab": {
      "provenance": [],
      "authorship_tag": "ABX9TyNzHTNXzCIAWGE7AZcRN5Lp",
      "include_colab_link": true
    },
    "kernelspec": {
      "name": "python3",
      "display_name": "Python 3"
    },
    "language_info": {
      "name": "python"
    }
  },
  "cells": [
    {
      "cell_type": "markdown",
      "metadata": {
        "id": "view-in-github",
        "colab_type": "text"
      },
      "source": [
        "<a href=\"https://colab.research.google.com/github/SinaQP/Codex-Creare/blob/main/Codex_Creare.ipynb\" target=\"_parent\"><img src=\"https://colab.research.google.com/assets/colab-badge.svg\" alt=\"Open In Colab\"/></a>"
      ]
    },
    {
      "cell_type": "markdown",
      "source": [
        "# **The Book of Creation**"
      ],
      "metadata": {
        "id": "ydtJA_QvmSUn"
      }
    },
    {
      "cell_type": "code",
      "source": [
        "%pip install openai langchain langchain-community langchain-openai faiss-cpu --upgrade --quiet"
      ],
      "metadata": {
        "colab": {
          "base_uri": "https://localhost:8080/"
        },
        "id": "2uCmMYd2qNde",
        "outputId": "de282e94-74a6-4e8a-b57d-730849f461e6"
      },
      "execution_count": 29,
      "outputs": [
        {
          "output_type": "stream",
          "name": "stdout",
          "text": [
            "\u001b[2K   \u001b[90m━━━━━━━━━━━━━━━━━━━━━━━━━━━━━━━━━━━━━━━━\u001b[0m \u001b[32m30.7/30.7 MB\u001b[0m \u001b[31m36.8 MB/s\u001b[0m eta \u001b[36m0:00:00\u001b[0m\n",
            "\u001b[?25h"
          ]
        }
      ]
    },
    {
      "cell_type": "code",
      "execution_count": 49,
      "metadata": {
        "id": "c-_vA-CLlNbD"
      },
      "outputs": [],
      "source": [
        "import openai\n",
        "from langchain.chat_models import ChatOpenAI\n",
        "from langchain.embeddings import OpenAIEmbeddings\n",
        "\n",
        "class AvalaiClient:\n",
        "    def __init__(self, api_key=\"\", base_url=\"\", model_name=\"gpt-4o-mini\"):\n",
        "        self.api_key, self.base_url = self._set_api_config(api_key, base_url)\n",
        "        self.model_name = model_name\n",
        "        self.client = openai.OpenAI(api_key=self.api_key, base_url=self.base_url)\n",
        "\n",
        "    def get_model(self):\n",
        "        return ChatOpenAI(model_name=self.model_name, openai_api_key=self.api_key, openai_api_base=self.base_url)\n",
        "\n",
        "    def get_embeddings(self):\n",
        "        return OpenAIEmbeddings(openai_api_key=self.api_key, openai_api_base=self.base_url)\n",
        "\n",
        "    def _set_api_config(self, api_key, base_url):\n",
        "        default_api_key = \"\"\n",
        "        default_base_url = \"https://api.avalai.ir/v1\"\n",
        "        return api_key or default_api_key, base_url or default_base_url\n",
        "\n"
      ]
    },
    {
      "cell_type": "code",
      "source": [
        "avalai_client = AvalaiClient()\n",
        "model = avalai_client.get_model()\n",
        "embeddings = avalai_client.get_embeddings()\n"
      ],
      "metadata": {
        "id": "9SYLoVMXpoL8"
      },
      "execution_count": 50,
      "outputs": []
    },
    {
      "cell_type": "code",
      "source": [
        "from langchain.vectorstores import FAISS\n",
        "past_names = [\n",
        "    \"Tempus\", \"Cinematic Harmony\", \"TSE Visualizer\", \"Soul Eater\",\n",
        "    \"Old-Cleaner\", \"Future Gadget Lab\", \"Excel-Alchemist\", \"Athina\", \"Codex Crearer\",\n",
        "]\n",
        "db = FAISS.from_texts(past_names, embeddings)"
      ],
      "metadata": {
        "id": "X1mqu6yGsBTE"
      },
      "execution_count": 51,
      "outputs": []
    },
    {
      "cell_type": "code",
      "source": [
        "from langchain.prompts import PromptTemplate\n",
        "\n",
        "def generate_cool_name(theme: str = \"star wars\", num_names: int = 10):\n",
        "    \"\"\"Generates a cool name based on past names and a given theme.\"\"\"\n",
        "    similar_names = db.similarity_search(theme, k=7)\n",
        "    context = \"\\n\".join([n.page_content for n in similar_names])\n",
        "\n",
        "    prompt = PromptTemplate.from_template(\n",
        "        \"\"\"\n",
        "        Based on the following cool names: {context},\n",
        "        generate {num_names} unique and cool names that fit the theme: {theme}.\n",
        "        Return only the name, and explanation.\n",
        "        \"\"\"\n",
        "    )\n",
        "    response = llm.predict(prompt.format(context=context, theme=theme, num_names=num_names))\n",
        "    return response.strip()\n"
      ],
      "metadata": {
        "id": "QPDgMLEfsS0B"
      },
      "execution_count": 57,
      "outputs": []
    },
    {
      "cell_type": "code",
      "source": [
        "theme = \"SEO Blog Articles\"\n",
        "cool_names = generate_cool_name(theme, 30)"
      ],
      "metadata": {
        "id": "YAhqG7V0tc7i"
      },
      "execution_count": 60,
      "outputs": []
    },
    {
      "cell_type": "code",
      "source": [
        "print(cool_names)"
      ],
      "metadata": {
        "colab": {
          "base_uri": "https://localhost:8080/"
        },
        "id": "0TKeN7PatqQ_",
        "outputId": "3562dcad-e114-406f-a1fd-6033ec4b2fd4"
      },
      "execution_count": 61,
      "outputs": [
        {
          "output_type": "stream",
          "name": "stdout",
          "text": [
            "1. SEO-Optimizer: A straightforward name that emphasizes the blog's focus on search engine optimization.\n",
            "2. Keyword-Wizard: This name suggests the blog's expertise in finding and utilizing the right keywords.\n",
            "3. SEO-Enhancer: This blog is all about enhancing a website's SEO.\n",
            "4. Semantic-Searcher: This name highlights the blog's focus on semantic search optimization.\n",
            "5. Mobile-SEO Master: A blog that specializes in optimizing SEO for mobile platforms.\n",
            "6. SEO-Dynamo: This blog is a powerhouse of SEO tips and tricks.\n",
            "7. Traffic-Engine: This blog is all about driving traffic to your website with SEO.\n",
            "8. SEO-Sorcerer: This blog transforms your SEO strategy with magical results.\n",
            "9. Rank-Raiser: This blog helps to raise your site's rank on search engine results.\n",
            "10. Meta-Maestro: This blog is a master at crafting meta tags for SEO.\n",
            "11. Backlink-Builder: This blog offers tips on building backlinks for better SEO.\n",
            "12. SEO-Oracle: This blog offers wise and predictive advice about SEO trends.\n",
            "13. SERP-Sage: This blog is a wise guide to understanding and improving your search engine results page (SERP) rankings.\n",
            "14. SEO-Expeditor: This blog speeds up your SEO success.\n",
            "15. Content-Cauldron: A blog that mixes up content strategies for better SEO.\n",
            "16. SEO-Warlock: A blog that uses powerful SEO strategies.\n",
            "17. Web-Crawler: This blog goes deep into the web to find the best SEO strategies.\n",
            "18. SEO-Illuminator: This blog sheds light on the often murky world of SEO.\n",
            "19. Algorithm-Alchemist: This blog transforms the understanding of search engine algorithms into gold.\n",
            "20. SEO-Paragon: This blog sets the standard for SEO best practices.\n",
            "21. SEO-Voyager: This blog takes readers on a journey through the world of SEO.\n",
            "22. Bounce-Rate Reducer: A blog that offers tips to reduce bounce rates for better SEO.\n",
            "23. SEO-Strategist: This blog provides strategic SEO advice.\n",
            "24. SEO-Navigator: This blog guides readers through the complexities of SEO.\n",
            "25. Keyword-Composer: This blog orchestrates perfect keyword strategies.\n",
            "26. SEO-Tactician: This blog offers tactical advice for SEO success.\n",
            "27. SEO-Virtuoso: This blog is a master at SEO.\n",
            "28. SEO-Symphony: This blog harmonizes all aspects of SEO into a coherent strategy.\n",
            "29. SEO-Pathfinder: This blog finds the best paths to SEO success.\n",
            "30. SEO-Enigma: This blog unravels the mysteries of SEO.\n"
          ]
        }
      ]
    },
    {
      "cell_type": "code",
      "source": [],
      "metadata": {
        "id": "Aal6Ar5ivOzx"
      },
      "execution_count": null,
      "outputs": []
    }
  ]
}
