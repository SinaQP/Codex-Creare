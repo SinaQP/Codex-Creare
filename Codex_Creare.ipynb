{
  "nbformat": 4,
  "nbformat_minor": 0,
  "metadata": {
    "colab": {
      "provenance": [],
      "authorship_tag": "ABX9TyN4iKE9P2qMjHgUOEtfK1NB",
      "include_colab_link": true
    },
    "kernelspec": {
      "name": "python3",
      "display_name": "Python 3"
    },
    "language_info": {
      "name": "python"
    }
  },
  "cells": [
    {
      "cell_type": "markdown",
      "metadata": {
        "id": "view-in-github",
        "colab_type": "text"
      },
      "source": [
        "<a href=\"https://colab.research.google.com/github/SinaQP/Codex-Creare/blob/main/Codex_Creare.ipynb\" target=\"_parent\"><img src=\"https://colab.research.google.com/assets/colab-badge.svg\" alt=\"Open In Colab\"/></a>"
      ]
    },
    {
      "cell_type": "markdown",
      "source": [
        "# **The Book of Creation**"
      ],
      "metadata": {
        "id": "ydtJA_QvmSUn"
      }
    },
    {
      "cell_type": "code",
      "source": [
        "%pip install openai langchain langchain-community langchain-openai faiss-cpu --upgrade --quiet"
      ],
      "metadata": {
        "colab": {
          "base_uri": "https://localhost:8080/"
        },
        "id": "2uCmMYd2qNde",
        "outputId": "de282e94-74a6-4e8a-b57d-730849f461e6"
      },
      "execution_count": 29,
      "outputs": [
        {
          "output_type": "stream",
          "name": "stdout",
          "text": [
            "\u001b[2K   \u001b[90m━━━━━━━━━━━━━━━━━━━━━━━━━━━━━━━━━━━━━━━━\u001b[0m \u001b[32m30.7/30.7 MB\u001b[0m \u001b[31m36.8 MB/s\u001b[0m eta \u001b[36m0:00:00\u001b[0m\n",
            "\u001b[?25h"
          ]
        }
      ]
    },
    {
      "cell_type": "code",
      "execution_count": 65,
      "metadata": {
        "id": "c-_vA-CLlNbD"
      },
      "outputs": [],
      "source": [
        "import os\n",
        "import openai\n",
        "from langchain.chat_models import ChatOpenAI\n",
        "from langchain.embeddings import OpenAIEmbeddings\n",
        "\n",
        "class AvalaiClient:\n",
        "    def __init__(self, api_key=\"\", base_url=\"\", model_name=\"gpt-4o-mini\"):\n",
        "        self.api_key, self.base_url = self._set_api_config(api_key, base_url)\n",
        "        self.model_name = model_name\n",
        "        self.client = openai.OpenAI(api_key=self.api_key, base_url=self.base_url)\n",
        "\n",
        "    def get_model(self):\n",
        "        return ChatOpenAI(model_name=self.model_name, openai_api_key=self.api_key, openai_api_base=self.base_url)\n",
        "\n",
        "    def get_embeddings(self):\n",
        "        return OpenAIEmbeddings(openai_api_key=self.api_key, openai_api_base=self.base_url)\n",
        "\n",
        "    def _set_api_config(self, api_key, base_url):\n",
        "        default_api_key = \"\"\n",
        "        default_base_url = \"https://api.avalai.ir/v1\"\n",
        "        return api_key or default_api_key, base_url or default_base_url\n",
        "\n"
      ]
    },
    {
      "cell_type": "code",
      "source": [
        "class BaseFAISSDatabase:\n",
        "    def __init__(self, embeddings, db_path=\"faiss_index\"):\n",
        "        self.db_path = db_path\n",
        "        self.embeddings = embeddings\n",
        "        self.db = self._load_or_initialize_db()\n",
        "\n",
        "    def _load_or_initialize_db(self):\n",
        "        if os.path.exists(self.db_path):\n",
        "            db = FAISS.load_local(self.db_path, self.embeddings, allow_dangerous_deserialization=True)\n",
        "            if db.index.ntotal > 0:\n",
        "                return db\n",
        "        return FAISS.from_texts([\"PLACEHOLDER\"], self.embeddings)  # Ensure at least one entry\n",
        "\n",
        "    def add_texts(self, texts):\n",
        "        unique_texts = list(set(texts))\n",
        "        if unique_texts:  # Prevent adding empty lists\n",
        "            self.db.add_texts(unique_texts)\n",
        "            self.db.save_local(self.db_path)\n",
        "\n",
        "    def search(self, query, k=5):\n",
        "        return [n.page_content for n in self.db.similarity_search(query, k=k)]\n",
        "\n",
        "    def clear(self):\n",
        "        self.db = FAISS.from_texts([\"PLACEHOLDER\"], self.embeddings)\n",
        "        self.db.save_local(self.db_path)\n",
        "\n",
        "    def remove_duplicates(self):\n",
        "        all_data = self.view_all_data()\n",
        "        if not all_data:  # Prevent errors when DB is empty\n",
        "            return\n",
        "        unique_texts = list(set(all_data))\n",
        "        self.db = FAISS.from_texts(unique_texts, self.embeddings)\n",
        "        self.db.save_local(self.db_path)\n",
        "\n",
        "    def view_all_data(self):\n",
        "        return [n.page_content for n in self.db.similarity_search(\"PLACEHOLDER\", k=1000) if n.page_content != \"PLACEHOLDER\"]\n"
      ],
      "metadata": {
        "id": "OyLOt2ZLxvlf"
      },
      "execution_count": 156,
      "outputs": []
    },
    {
      "cell_type": "code",
      "source": [],
      "metadata": {
        "id": "sVy7vsGty9xp"
      },
      "execution_count": 145,
      "outputs": []
    },
    {
      "cell_type": "code",
      "source": [
        "avalai_client = AvalaiClient()\n",
        "llm = avalai_client.get_model()\n",
        "embeddings = avalai_client.get_embeddings()\n",
        "db = CoolNameDatabase(embeddings)\n"
      ],
      "metadata": {
        "id": "9SYLoVMXpoL8"
      },
      "execution_count": 159,
      "outputs": []
    },
    {
      "cell_type": "code",
      "source": [
        "class CoolNameDatabase(BaseFAISSDatabase):\n",
        "    def add_names(self, names):\n",
        "        self.add_texts(names)\n",
        "\n",
        "    def search_similar_names(self, theme, k=5):\n",
        "        return self.search(theme, k=k)"
      ],
      "metadata": {
        "id": "GYQ_NveVxy9n"
      },
      "execution_count": 157,
      "outputs": []
    },
    {
      "cell_type": "code",
      "source": [
        "from langchain.vectorstores import FAISS\n",
        "past_names = [\n",
        "    \"Tempus\", \"Cinematic Harmony\", \"TSE Visualizer\", \"Soul Eater\",\n",
        "    \"Old-Cleaner\", \"Future Gadget Lab\", \"Excel-Alchemist\", \"Athina\", \"Codex Crearer\",\n",
        "]\n",
        "\n",
        "db.add_names(past_names)"
      ],
      "metadata": {
        "id": "X1mqu6yGsBTE"
      },
      "execution_count": 167,
      "outputs": []
    },
    {
      "cell_type": "code",
      "source": [
        "from langchain.prompts import PromptTemplate\n",
        "\n",
        "def generate_cool_names(theme: str = \"futuristic\", num_names: int = 10):\n",
        "    \"\"\"Generates multiple cool names based on past names and a given theme.\"\"\"\n",
        "    context = \"\\n\".join(db.search_similar_names(theme))\n",
        "\n",
        "    prompt = PromptTemplate.from_template(\n",
        "        \"\"\"\n",
        "        Based on the following cool names: {context},\n",
        "        generate {num_names} unique and cool names that fit the theme: {theme}.\n",
        "        Return only the names, separated by commas.\n",
        "        \"\"\"\n",
        "    )\n",
        "    print(context)\n",
        "\n",
        "    response = llm.predict(prompt.format(context=context, theme=theme, num_names=num_names))\n",
        "    return [name.strip() for name in response.split(\",\")]"
      ],
      "metadata": {
        "id": "QPDgMLEfsS0B"
      },
      "execution_count": 125,
      "outputs": []
    },
    {
      "cell_type": "code",
      "source": [
        "theme = \"SEO Blog Articles\"\n",
        "cool_names = generate_cool_names(theme, 5)"
      ],
      "metadata": {
        "colab": {
          "base_uri": "https://localhost:8080/"
        },
        "id": "YAhqG7V0tc7i",
        "outputId": "48c1b22c-8c6d-4863-efb8-00675c163cbc"
      },
      "execution_count": 127,
      "outputs": [
        {
          "output_type": "stream",
          "name": "stdout",
          "text": [
            "Excel-Alchemist\n",
            "Excel-Alchemist\n",
            "PLACEHOLDER\n",
            "s\n",
            "e\n"
          ]
        }
      ]
    },
    {
      "cell_type": "code",
      "source": [
        "print(cool_names)"
      ],
      "metadata": {
        "colab": {
          "base_uri": "https://localhost:8080/"
        },
        "id": "0wq6X8ln0pH4",
        "outputId": "35a9b2b2-44f2-447c-a555-cf657b16950b"
      },
      "execution_count": 128,
      "outputs": [
        {
          "output_type": "stream",
          "name": "stdout",
          "text": [
            "['SEO-Sorcerer', 'Keyword-Kingpin', 'Rank-Renegade', 'Content-Crafter', 'Traffic-Tactician']\n"
          ]
        }
      ]
    },
    {
      "cell_type": "code",
      "source": [
        "db.add_names([\"Rank-Raiser\"])"
      ],
      "metadata": {
        "id": "0TKeN7PatqQ_"
      },
      "execution_count": 169,
      "outputs": []
    },
    {
      "cell_type": "code",
      "source": [
        "db.remove_duplicates()\n",
        "print(\"Database Contents:\", db.view_all_data())"
      ],
      "metadata": {
        "colab": {
          "base_uri": "https://localhost:8080/"
        },
        "id": "Aal6Ar5ivOzx",
        "outputId": "335418f9-e759-4f28-ccc9-3a775a17d11b"
      },
      "execution_count": 171,
      "outputs": [
        {
          "output_type": "stream",
          "name": "stdout",
          "text": [
            "Database Contents: ['Rank-Raiser', 'Excel-Alchemist', 'Old-Cleaner', 'Future Gadget Lab', 'Tempus', 'Codex Crearer', 'Athina', 'Soul Eater', 'Cinematic Harmony', 'TSE Visualizer']\n"
          ]
        }
      ]
    },
    {
      "cell_type": "code",
      "source": [],
      "metadata": {
        "id": "6AB5zZRo1isw"
      },
      "execution_count": null,
      "outputs": []
    }
  ]
}